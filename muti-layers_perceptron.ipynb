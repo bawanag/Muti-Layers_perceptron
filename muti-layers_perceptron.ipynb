{
 "metadata": {
  "language_info": {
   "codemirror_mode": {
    "name": "ipython",
    "version": 3
   },
   "file_extension": ".py",
   "mimetype": "text/x-python",
   "name": "python",
   "nbconvert_exporter": "python",
   "pygments_lexer": "ipython3",
   "version": "3.8.5"
  },
  "orig_nbformat": 2,
  "kernelspec": {
   "name": "python3",
   "display_name": "Python 3.8.5 64-bit ('base': conda)",
   "metadata": {
    "interpreter": {
     "hash": "ba7ce498c0c28dfddcc1af62e507e66e5fe82ae14df75326ae283670dd9f6240"
    }
   }
  }
 },
 "nbformat": 4,
 "nbformat_minor": 2,
 "cells": [
  {
   "cell_type": "code",
   "execution_count": 1,
   "metadata": {},
   "outputs": [],
   "source": [
    "import numpy as np\n",
    "import random\n",
    "import matplotlib.pyplot as plt"
   ]
  },
  {
   "source": [
    "数据集准备"
   ],
   "cell_type": "markdown",
   "metadata": {}
  },
  {
   "cell_type": "code",
   "execution_count": 2,
   "metadata": {},
   "outputs": [
    {
     "output_type": "stream",
     "name": "stdout",
     "text": [
      "[array([5.7, 4.4, 1.5, 0.4, 1. ]), array([5.4, 3.9, 1.3, 0.4, 1. ]), array([5.1, 3.5, 1.4, 0.3, 1. ]), array([5.7, 3.8, 1.7, 0.3, 1. ]), array([6.7, 3.3, 5.7, 2.5, 1. ])]\n"
     ]
    }
   ],
   "source": [
    "inputs  = []\n",
    "outputs = []\n",
    "\n",
    "d = {}\n",
    "d['Iris-setosa\\n']     = [1., 0., 0.]\n",
    "d['Iris-versicolor\\n'] = [0., 1., 0.]\n",
    "d['Iris-virginica\\n']  = [0., 0., 1.]\n",
    "\n",
    "with open('iris.data') as f:\n",
    "    lines=f.readlines()\n",
    "    for line in lines:\n",
    "        items=line.split(',')\n",
    "        if len(items) == 5:\n",
    "            inp =  [float(x) for x in items[0:4] ]\n",
    "            inputs.append(inp)\n",
    "            out = d[items[4]]\n",
    "            outputs.append(out)\n",
    "            \n",
    "ids=random.sample(range(0,len(inputs)), 100) # generate 100 random ids\n",
    "#training set\n",
    "train_in = []\n",
    "train_out=[]\n",
    "for id in ids:\n",
    "    train_in.append(inputs[id])\n",
    "    train_out.append(outputs[id])\n",
    "train_inputs  = np.array(train_in)\n",
    "train_outputs = np.array(train_out)\n",
    "\n",
    "#valid set\n",
    "val_input =[]\n",
    "val_output=[]\n",
    "validation_ids = list(set(range(0,len(inputs))) - set(ids))\n",
    "for val_id in validation_ids:\n",
    "    val_input.append(inputs[val_id])\n",
    "    val_output.append(outputs[val_id])\n",
    "val_inputs  = np.array(val_input)\n",
    "val_outputs = np.array(val_output)\n",
    "\n",
    "val_dataset_inputs = []\n",
    "val_dataset_inputs = []\n",
    "for i,val_input in enumerate(val_inputs):\n",
    "  val_dataset_inputs.append(np.append(val_input,[1]))\n",
    "print(val_dataset_inputs[10:15])"
   ]
  },
  {
   "source": [
    "通过上一个博客我们可以得到单一的感知器可以判断是否为某种类型的鸢尾花，通过计算我们可以得到已下三个%\\vec w%分别代表不同的已训练感知器以及其精度：\n"
   ],
   "cell_type": "markdown",
   "metadata": {}
  },
  {
   "cell_type": "code",
   "execution_count": 3,
   "metadata": {},
   "outputs": [],
   "source": [
    "# Setosa accuracy：1.0\n",
    "w0 = [-3.59667091,9.75509188,-1.33161528,-2.25896886,-3.00288717]\n",
    "# Versicolor accuracy：0.8\n",
    "w1 = [0.05378028,-3.4590448,1.10002562,-2.89421222,9.10068046]\n",
    "# Virginica accuracy：0.88\n",
    "w2 = [-4.89257798,1.67271247,5.2495293,-1.78437464,2.81813974]\n",
    "\n",
    "w_v = []\n",
    "w_v.append(w0)\n",
    "w_v.append(w1)\n",
    "w_v.append(w2)"
   ]
  },
  {
   "source": [
    "现在我们将让其再次经过一个人工逻辑编写的神经元，是否能进一步提升accuracy呢？"
   ],
   "cell_type": "markdown",
   "metadata": {}
  },
  {
   "cell_type": "code",
   "execution_count": 4,
   "metadata": {},
   "outputs": [],
   "source": [
    "def artificial_neutral(unite_result):\n",
    "    if unite_result[0]==1: # setosa perceptron has 100% accuracy\n",
    "        return [1,0,0]   # so it always is corrected \n",
    "    elif unite_result[0]==0 and unite_result[2]==0: \n",
    "        return [0,1,0]   #virginica has higer accuracy then versicolor \n",
    "    elif unite_result[2]==1:# so use its estimation\n",
    "        return [0,0,1]\n",
    "    else:\n",
    "        return [0,1,0] # final estimate only is versicolor "
   ]
  },
  {
   "source": [
    "获取第一层感知器结果："
   ],
   "cell_type": "markdown",
   "metadata": {}
  },
  {
   "cell_type": "code",
   "execution_count": 5,
   "metadata": {},
   "outputs": [
    {
     "output_type": "stream",
     "name": "stdout",
     "text": [
      "50\n"
     ]
    }
   ],
   "source": [
    "w_v = np.array(w_v)\n",
    "print(len(val_dataset_inputs))\n",
    "l1_unite_result_list = []\n",
    "for input_data in val_dataset_inputs:\n",
    "    l1_unite_result = []\n",
    "    for w in w_v:\n",
    "        if input_data.dot(w) > 0:\n",
    "            l1_unite_result.append(1)\n",
    "        else:\n",
    "            l1_unite_result.append(0)\n",
    "    l1_unite_result_list.append(l1_unite_result)"
   ]
  },
  {
   "source": [
    "获取到最终结果："
   ],
   "cell_type": "markdown",
   "metadata": {}
  },
  {
   "cell_type": "code",
   "execution_count": 6,
   "metadata": {},
   "outputs": [
    {
     "output_type": "stream",
     "name": "stdout",
     "text": [
      "second layer neutral accuracy :0.92\n"
     ]
    }
   ],
   "source": [
    "corrected_counter = 0\n",
    "for i,second_layer_input in enumerate(l1_unite_result_list):\n",
    "  layer2_result = artificial_neutral(second_layer_input)\n",
    "  if (val_outputs[i] == layer2_result).all():\n",
    "    corrected_counter+=1\n",
    "print(\"second layer neutral accuracy :{}\".format(corrected_counter/len(val_dataset_inputs)))"
   ]
  },
  {
   "source": [
    "现在我们输入数据就可以直接拿到鸢尾花的种类，现在我们看看判断变色鸢尾的概率是否提升"
   ],
   "cell_type": "markdown",
   "metadata": {}
  },
  {
   "source": [
    "首先我们准备一些变色鸢尾的数据："
   ],
   "cell_type": "markdown",
   "metadata": {}
  },
  {
   "cell_type": "code",
   "execution_count": 7,
   "metadata": {},
   "outputs": [
    {
     "output_type": "stream",
     "name": "stdout",
     "text": [
      "12\n"
     ]
    }
   ],
   "source": [
    "versicolor_inputs = []\n",
    "versicolor_output = np.array([0., 1., 0.])\n",
    "for i,val_output in enumerate(val_outputs):\n",
    "    if (val_output == versicolor_output).all():\n",
    "        versicolor_inputs.append(val_dataset_inputs[i])\n",
    "print(len(versicolor_inputs))\n"
   ]
  },
  {
   "cell_type": "code",
   "execution_count": 8,
   "metadata": {},
   "outputs": [
    {
     "output_type": "stream",
     "name": "stdout",
     "text": [
      "12\nsecond layer neutral accuracy :0.9166666666666666\n"
     ]
    }
   ],
   "source": [
    "w_v = np.array(w_v)\n",
    "print(len(versicolor_inputs))\n",
    "l1_unite_result_list = []\n",
    "for input_data in versicolor_inputs:\n",
    "    l1_unite_result = []\n",
    "    for w in w_v:\n",
    "        if input_data.dot(w) > 0:\n",
    "            l1_unite_result.append(1)\n",
    "        else:\n",
    "            l1_unite_result.append(0)\n",
    "    l1_unite_result_list.append(l1_unite_result)\n",
    "\n",
    "corrected_counter = 0\n",
    "for i,second_layer_input in enumerate(l1_unite_result_list):\n",
    "  layer2_result = artificial_neutral(second_layer_input)\n",
    "  if (versicolor_output == layer2_result).all():\n",
    "    corrected_counter+=1\n",
    "print(\"second layer neutral accuracy for versicolor :{}\".format(corrected_counter/len(versicolor_inputs)))"
   ]
  },
  {
   "source": [
    "我们可以看到现在对于变色鸢尾的判断准确性大大提高了"
   ],
   "cell_type": "markdown",
   "metadata": {}
  }
 ]
}